{
 "cells": [
  {
   "cell_type": "code",
   "execution_count": 25,
   "metadata": {
    "collapsed": false
   },
   "outputs": [],
   "source": [
    "import numpy as np\n",
    "import pandas as pd\n",
    "import nltk\n",
    "import re\n",
    "import os\n",
    "import codecs\n",
    "from sklearn import feature_extraction\n",
    "#import mpld3"
   ]
  },
  {
   "cell_type": "code",
   "execution_count": 26,
   "metadata": {
    "collapsed": false
   },
   "outputs": [
    {
     "data": {
      "text/html": [
       "<div>\n",
       "<table border=\"1\" class=\"dataframe\">\n",
       "  <thead>\n",
       "    <tr style=\"text-align: right;\">\n",
       "      <th></th>\n",
       "      <th>authid</th>\n",
       "      <th>text</th>\n",
       "    </tr>\n",
       "  </thead>\n",
       "  <tbody>\n",
       "    <tr>\n",
       "      <th>0</th>\n",
       "      <td>16309395600</td>\n",
       "      <td>Oil spill detection system - Results from fiel...</td>\n",
       "    </tr>\n",
       "    <tr>\n",
       "      <th>1</th>\n",
       "      <td>16310768700</td>\n",
       "      <td>Oil spill detection system - Results from fiel...</td>\n",
       "    </tr>\n",
       "    <tr>\n",
       "      <th>2</th>\n",
       "      <td>23024335400</td>\n",
       "      <td>Propagation of trust and distrust for the dete...</td>\n",
       "    </tr>\n",
       "  </tbody>\n",
       "</table>\n",
       "</div>"
      ],
      "text/plain": [
       "        authid                                               text\n",
       "0  16309395600  Oil spill detection system - Results from fiel...\n",
       "1  16310768700  Oil spill detection system - Results from fiel...\n",
       "2  23024335400  Propagation of trust and distrust for the dete..."
      ]
     },
     "execution_count": 26,
     "metadata": {},
     "output_type": "execute_result"
    }
   ],
   "source": [
    "text_df = pd.read_csv(\"output/troll_detection/authors_citations/ok/textblob.csv\")\n",
    "text_df = text_df.reindex(columns=['authid','text'])\n",
    "text_df.head(3)"
   ]
  },
  {
   "cell_type": "code",
   "execution_count": 27,
   "metadata": {
    "collapsed": true
   },
   "outputs": [],
   "source": [
    "stopwords = nltk.corpus.stopwords.words('english')"
   ]
  },
  {
   "cell_type": "code",
   "execution_count": 28,
   "metadata": {
    "collapsed": true
   },
   "outputs": [],
   "source": [
    "# load nltk's SnowballStemmer as variabled 'stemmer'\n",
    "from nltk.stem.snowball import SnowballStemmer\n",
    "stemmer = SnowballStemmer(\"english\")"
   ]
  },
  {
   "cell_type": "code",
   "execution_count": 29,
   "metadata": {
    "collapsed": true
   },
   "outputs": [],
   "source": [
    "# here I define a tokenizer and stemmer which returns the set of stems in the text that it is passed\n",
    "\n",
    "def tokenize_and_stem(text):\n",
    "    # first tokenize by sentence, then by word to ensure that punctuation is caught as it's own token\n",
    "    tokens = [word for sent in nltk.sent_tokenize(text) for word in nltk.word_tokenize(sent)]\n",
    "    filtered_tokens = []\n",
    "    # filter out any tokens not containing letters (e.g., numeric tokens, raw punctuation)\n",
    "    for token in tokens:\n",
    "        if re.search('[a-zA-Z]', token):\n",
    "            filtered_tokens.append(token)\n",
    "    stems = [stemmer.stem(t) for t in filtered_tokens]\n",
    "    return stems\n",
    "\n",
    "\n",
    "def tokenize_only(text):\n",
    "    # first tokenize by sentence, then by word to ensure that punctuation is caught as it's own token\n",
    "    tokens = [word.lower() for sent in nltk.sent_tokenize(text) for word in nltk.word_tokenize(sent)]\n",
    "    filtered_tokens = []\n",
    "    # filter out any tokens not containing letters (e.g., numeric tokens, raw punctuation)\n",
    "    for token in tokens:\n",
    "        if re.search('[a-zA-Z]', token):\n",
    "            filtered_tokens.append(token)\n",
    "    return filtered_tokens"
   ]
  },
  {
   "cell_type": "code",
   "execution_count": 30,
   "metadata": {
    "collapsed": false
   },
   "outputs": [],
   "source": [
    "#not super pythonic, no, not at all.\n",
    "#use extend so it's a big flat list of vocab\n",
    "totalvocab_stemmed = []\n",
    "totalvocab_tokenized = []\n",
    "for row in text_df.itertuples():\n",
    "    i=row[-1]\n",
    "    allwords_stemmed = tokenize_and_stem(i) #for each item in 'synopses', tokenize/stem\n",
    "    totalvocab_stemmed.extend(allwords_stemmed) #extend the 'totalvocab_stemmed' list\n",
    "\n",
    "    allwords_tokenized = tokenize_only(i)\n",
    "    totalvocab_tokenized.extend(allwords_tokenized)"
   ]
  },
  {
   "cell_type": "code",
   "execution_count": 31,
   "metadata": {
    "collapsed": false
   },
   "outputs": [
    {
     "name": "stdout",
     "output_type": "stream",
     "text": [
      "there are 14127 items in vocab_frame\n"
     ]
    }
   ],
   "source": [
    "vocab_frame = pd.DataFrame({'words': totalvocab_tokenized}, index = totalvocab_stemmed)\n",
    "print ('there are ' + str(vocab_frame.shape[0]) + ' items in vocab_frame')"
   ]
  },
  {
   "cell_type": "code",
   "execution_count": 32,
   "metadata": {
    "collapsed": false
   },
   "outputs": [
    {
     "data": {
      "text/html": [
       "<div>\n",
       "<table border=\"1\" class=\"dataframe\">\n",
       "  <thead>\n",
       "    <tr style=\"text-align: right;\">\n",
       "      <th></th>\n",
       "      <th>words</th>\n",
       "    </tr>\n",
       "  </thead>\n",
       "  <tbody>\n",
       "    <tr>\n",
       "      <th>count</th>\n",
       "      <td>1258</td>\n",
       "    </tr>\n",
       "    <tr>\n",
       "      <th>unique</th>\n",
       "      <td>1258</td>\n",
       "    </tr>\n",
       "    <tr>\n",
       "      <th>top</th>\n",
       "      <td>trials</td>\n",
       "    </tr>\n",
       "    <tr>\n",
       "      <th>freq</th>\n",
       "      <td>1</td>\n",
       "    </tr>\n",
       "  </tbody>\n",
       "</table>\n",
       "</div>"
      ],
      "text/plain": [
       "         words\n",
       "count     1258\n",
       "unique    1258\n",
       "top     trials\n",
       "freq         1"
      ]
     },
     "execution_count": 32,
     "metadata": {},
     "output_type": "execute_result"
    }
   ],
   "source": [
    "vocab_frame = vocab_frame.drop_duplicates()\n",
    "vocab_frame.describe()\n",
    "#vocab_frame.head(10)"
   ]
  },
  {
   "cell_type": "code",
   "execution_count": 33,
   "metadata": {
    "collapsed": false
   },
   "outputs": [
    {
     "name": "stdout",
     "output_type": "stream",
     "text": [
      "CPU times: user 403 ms, sys: 4.67 ms, total: 408 ms\n",
      "Wall time: 411 ms\n",
      "tfidf_matrix has (rows(authors), cols(keywords)):\n",
      "(48, 632)\n"
     ]
    }
   ],
   "source": [
    "from sklearn.feature_extraction.text import TfidfVectorizer\n",
    "\n",
    "#define vectorizer parameters\n",
    "tfidf_vectorizer = TfidfVectorizer( max_features=20000,max_df=0.95,\n",
    "                                 min_df=0.05, stop_words=stopwords,\n",
    "                                 use_idf=True, tokenizer=tokenize_and_stem,\n",
    "                                    ngram_range=(1,1))\n",
    "\n",
    "%time tfidf_matrix = tfidf_vectorizer.fit_transform(text_df['text']) #fit the vectorizer to synopses\n",
    "print('tfidf_matrix has (rows(authors), cols(keywords)):')\n",
    "print(tfidf_matrix.shape)"
   ]
  },
  {
   "cell_type": "code",
   "execution_count": 34,
   "metadata": {
    "collapsed": false
   },
   "outputs": [
    {
     "data": {
      "text/plain": [
       "632"
      ]
     },
     "execution_count": 34,
     "metadata": {},
     "output_type": "execute_result"
    }
   ],
   "source": [
    "terms = tfidf_vectorizer.get_feature_names()\n",
    "len(tfidf_vectorizer.get_feature_names())"
   ]
  },
  {
   "cell_type": "code",
   "execution_count": 35,
   "metadata": {
    "collapsed": false
   },
   "outputs": [
    {
     "data": {
      "text/plain": [
       "\"'s ,2014.the ,abil ,abstract ,access ,accident ,accompani ,account ,accur ,accuraci ,achiev ,acm.sign ,acoust ,act ,action ,activ ,actual ,adapt ,administr ,advantag ,aerial ,affect ,agenc ,aggreg ,ai ,aim ,al ,algorithm ,allow ,almost ,along ,also ,alter-ego ,amount ,analys ,analysi ,analyt ,analyz ,ani ,annular ,anomal ,anomali ,anonym ,antarctica ,apertur ,appeal ,appear ,appli ,applic ,approach ,approxim ,argument ,articl ,assist ,associ ,atmospher ,attack ,author ,autom ,automat ,avail ,awar ,b.v. ,back ,backpressur ,base ,baselin ,basi ,becaus ,becom ,befor ,behavior ,behaviour ,benefit ,benign ,bias ,binari ,boat ,bot ,bottom-hol ,bring ,bypass ,call ,capabl ,carri ,case ,categoris ,caus ,certifi ,challeng ,characterist ,choke ,christma ,circul ,classif ,classifi ,clean ,clear ,close ,cluster\""
      ]
     },
     "execution_count": 35,
     "metadata": {},
     "output_type": "execute_result"
    }
   ],
   "source": [
    "' ,'.join(terms[:100])"
   ]
  },
  {
   "cell_type": "code",
   "execution_count": 36,
   "metadata": {
    "collapsed": false
   },
   "outputs": [
    {
     "data": {
      "text/plain": [
       "array([[-0.  , -0.  ,  0.92, ...,  0.65,  0.92,  0.65],\n",
       "       [-0.  , -0.  ,  0.92, ...,  0.65,  0.92,  0.65],\n",
       "       [ 0.92,  0.92,  0.  , ...,  0.97,  0.  ,  0.97],\n",
       "       ..., \n",
       "       [ 0.65,  0.65,  0.97, ...,  0.  ,  0.97,  0.  ],\n",
       "       [ 0.92,  0.92,  0.  , ...,  0.97,  0.  ,  0.97],\n",
       "       [ 0.65,  0.65,  0.97, ...,  0.  ,  0.97,  0.  ]])"
      ]
     },
     "execution_count": 36,
     "metadata": {},
     "output_type": "execute_result"
    }
   ],
   "source": [
    "from sklearn.metrics.pairwise import cosine_similarity\n",
    "cosdist = 1 - cosine_similarity(tfidf_matrix)\n",
    "np.round(cosdist,2)"
   ]
  },
  {
   "cell_type": "code",
   "execution_count": 37,
   "metadata": {
    "collapsed": false
   },
   "outputs": [
    {
     "name": "stdout",
     "output_type": "stream",
     "text": [
      "CPU times: user 18.2 ms, sys: 3.2 ms, total: 21.4 ms\n",
      "Wall time: 19.2 ms\n"
     ]
    },
    {
     "data": {
      "text/plain": [
       "GaussianMixture(covariance_type='spherical', init_params='kmeans',\n",
       "        max_iter=20, means_init=None, n_components=4, n_init=1,\n",
       "        precisions_init=None, random_state=0, reg_covar=1e-06, tol=0.001,\n",
       "        verbose=0, verbose_interval=10, warm_start=False,\n",
       "        weights_init=None)"
      ]
     },
     "execution_count": 37,
     "metadata": {},
     "output_type": "execute_result"
    }
   ],
   "source": [
    "from sklearn.mixture import GaussianMixture\n",
    "\n",
    "num_clusters = 4\n",
    "\n",
    "# Try GMMs using different types of covariances.\n",
    "#estimators = dict((cov_type, GaussianMixture(n_components=n_clusters,\n",
    "#                   covariance_type=cov_type, max_iter=20, random_state=0))\n",
    "#                  for cov_type in ['spherical', 'diag', 'tied', 'full'])\n",
    "\n",
    "em = GaussianMixture(n_components=num_clusters,covariance_type='spherical', max_iter=20, random_state=0)\n",
    "%time em.fit(tfidf_matrix.toarray())\n",
    "\n"
   ]
  },
  {
   "cell_type": "code",
   "execution_count": 38,
   "metadata": {
    "collapsed": false
   },
   "outputs": [
    {
     "data": {
      "text/plain": [
       "array([2, 2, 3, 2, 2, 2, 3, 1, 3, 3, 1, 2, 3, 3, 0, 3, 2, 3, 3, 3, 1, 0, 3,\n",
       "       0, 2, 1, 2, 1, 0, 1, 2, 2, 2, 2, 2, 1, 2, 1, 2, 2, 1, 1, 3, 0, 0, 2,\n",
       "       3, 2])"
      ]
     },
     "execution_count": 38,
     "metadata": {},
     "output_type": "execute_result"
    }
   ],
   "source": [
    "clusters = em.predict(tfidf_matrix.toarray())\n",
    "clusters"
   ]
  },
  {
   "cell_type": "code",
   "execution_count": 39,
   "metadata": {
    "collapsed": true
   },
   "outputs": [],
   "source": [
    "output = { 'authid': list(text_df['authid']), 'cluster': clusters, 'text': list(text_df['text']) }\n",
    "\n",
    "frame = pd.DataFrame(output, index = [clusters] , columns = ['authid', 'cluster', 'text'])"
   ]
  },
  {
   "cell_type": "code",
   "execution_count": 40,
   "metadata": {
    "collapsed": false
   },
   "outputs": [
    {
     "name": "stdout",
     "output_type": "stream",
     "text": [
      "Top terms per cluster:\n",
      "\n",
      "Cluster 0 words: 'signed, slashdot, network, ranking, model, many, social, algorithm, accurately, tia,\n",
      "Cluster 0 has 6 authors.\n",
      "\n",
      "Cluster 1 words: sentiment, analysis, troll, discussion, media, bots, forums, binary, ordinal, fakeholders,\n",
      "Cluster 1 has 10 authors.\n",
      "\n",
      "Cluster 2 words: oil, gas, system, satellite, control, drilling, services, well, field, vessels,\n",
      "Cluster 2 has 19 authors.\n",
      "\n",
      "Cluster 3 words: social, trust, users, network, real, generation, comment, profiles, news, content,\n",
      "Cluster 3 has 13 authors.\n",
      "\n"
     ]
    }
   ],
   "source": [
    "print(\"Top terms per cluster:\")\n",
    "print()\n",
    "\n",
    "#sort cluster centers by proximity to centroid\n",
    "order_centroids = em.means_.argsort()[:, ::-1]\n",
    "\n",
    "for i in range(num_clusters):\n",
    "    print(\"Cluster {} words:\".format(i), end='')\n",
    "    \n",
    "    for ind in order_centroids[i, :10]: #replace 10 with n words per cluster\n",
    "        print(' {}'.format(vocab_frame.ix[terms[ind].split(' ')].values.tolist()[0][0]), end=',')\n",
    "    print() #add whitespace\n",
    "    \n",
    "    print(\"Cluster {} has \".format(i), end='')\n",
    "    print('{} authors.'.format(len(frame.ix[i]['authid'].values.tolist())))\n",
    "    print() #add whitespace"
   ]
  },
  {
   "cell_type": "markdown",
   "metadata": {
    "collapsed": false
   },
   "source": [
    "<h2>Clustering done. Visualization tips here...</h2>\n",
    "\n",
    "We got a n_samples*n_features sparse matrix.\n",
    "\n",
    "For high-dimensional sparse data it is helpful to <b>first reduce the dimensions to 50 dimensions with TruncatedSVD</b> and <b>then perform t-SNE</b>. \n",
    "This will usually improve the visualization."
   ]
  },
  {
   "cell_type": "code",
   "execution_count": 41,
   "metadata": {
    "collapsed": false
   },
   "outputs": [
    {
     "name": "stdout",
     "output_type": "stream",
     "text": [
      "[t-SNE] Computing pairwise distances...\n",
      "[t-SNE] Computing 47 nearest neighbors...\n",
      "[t-SNE] Computed conditional probabilities for sample 48 / 48\n",
      "[t-SNE] Mean sigma: 2.121431\n",
      "[t-SNE] KL divergence after 75 iterations with early exaggeration: 1.054039\n",
      "[t-SNE] Error after 100 iterations: 1.054039\n"
     ]
    }
   ],
   "source": [
    "#TruncatedSVD and t-SNE on cosdist matrix\n",
    "from sklearn.decomposition import TruncatedSVD\n",
    "from sklearn.manifold import TSNE\n",
    "\n",
    "X_reduced = TruncatedSVD(n_components=20, random_state=0).fit_transform(cosdist)\n",
    "X_cosdist = TSNE(n_components=2, perplexity=40, verbose=1).fit_transform(X_reduced)"
   ]
  },
  {
   "cell_type": "code",
   "execution_count": 42,
   "metadata": {
    "collapsed": false
   },
   "outputs": [
    {
     "name": "stdout",
     "output_type": "stream",
     "text": [
      "[t-SNE] Computing pairwise distances...\n",
      "[t-SNE] Computing 47 nearest neighbors...\n",
      "[t-SNE] Computed conditional probabilities for sample 48 / 48\n",
      "[t-SNE] Mean sigma: 1.012254\n",
      "[t-SNE] KL divergence after 100 iterations with early exaggeration: 1.043923\n",
      "[t-SNE] Error after 125 iterations: 1.043923\n"
     ]
    }
   ],
   "source": [
    "#TruncatedSVD and t-SNE on tfidf_matrix\n",
    "\n",
    "X_reduced = TruncatedSVD(n_components=20, random_state=0).fit_transform(tfidf_matrix)\n",
    "X_tfidf = TSNE(n_components=2, perplexity=40, verbose=1).fit_transform(X_reduced)\n"
   ]
  },
  {
   "cell_type": "code",
   "execution_count": 43,
   "metadata": {
    "collapsed": false,
    "scrolled": false
   },
   "outputs": [
    {
     "data": {
      "text/plain": [
       "<matplotlib.collections.PathCollection at 0x10d6c1320>"
      ]
     },
     "execution_count": 43,
     "metadata": {},
     "output_type": "execute_result"
    },
    {
     "data": {
      "image/png": "[encoded data removed]",
      "text/plain": [
       "<matplotlib.figure.Figure at 0x109fc92e8>"
      ]
     },
     "metadata": {},
     "output_type": "display_data"
    }
   ],
   "source": [
    "from sklearn.decomposition import PCA\n",
    "import matplotlib.patches as patches\n",
    "import matplotlib.pyplot as plt\n",
    "\n",
    "pca_tfidf = PCA(n_components=2).fit_transform(tfidf_matrix.toarray())\n",
    "pca_cosdist = PCA(n_components=2).fit_transform(cosdist)\n",
    "\n",
    "%matplotlib inline \n",
    "\n",
    "colormap = np.array(['#4DC200', '#FFF926', '#FF7600', '#FF2813', '#3B99FF'])\n",
    "\n",
    "#2d plot\n",
    "\n",
    "\n",
    "fig = plt.figure(figsize=(10, 10))\n",
    "# plot setup\n",
    "fig.suptitle(\"Sentiment Analysis\", fontsize=16)\n",
    "ax = plt.axes(frameon=False)\n",
    "plt.setp(ax, xticks=(), yticks=())\n",
    "plt.subplots_adjust(left=0.0, bottom=0.0, right=1.0, top=0.9, wspace=0.1, hspace=0.15)\n",
    "# 1st plot\n",
    "ax = plt.subplot(\"221\")\n",
    "ax.set_title(\"t-SNE Cosine Distance\")\n",
    "ax.scatter(X_cosdist[:, 0], X_cosdist[:, 1],\n",
    "        c=colormap[clusters], marker=\"o\")\n",
    "\n",
    "# 2nd plot\n",
    "ax = plt.subplot(\"222\")\n",
    "ax.set_title(\"t-SNE Tf-Idf Vectors\")\n",
    "\n",
    "ax.scatter(X_tfidf[:, 0], X_tfidf[:, 1],\n",
    "        c=colormap[clusters], marker=\"o\")\n",
    "# 3rd plot\n",
    "ax = plt.subplot(\"223\")\n",
    "ax.set_title(\"PCA Cosine Distance\")\n",
    "\n",
    "ax.scatter(pca_cosdist[:,0], pca_cosdist[:,1], c=colormap[clusters])\n",
    "# 4th plot\n",
    "ax = plt.subplot(\"224\")\n",
    "ax.set_title(\"PCA Tf-Idf Vectors\")\n",
    "\n",
    "ax.scatter(pca_tfidf[:,0], pca_tfidf[:,1], c=colormap[clusters], marker=\"o\")\n"
   ]
  },
  {
   "cell_type": "code",
   "execution_count": null,
   "metadata": {
    "collapsed": true
   },
   "outputs": [],
   "source": []
  }
 ],
 "metadata": {
  "kernelspec": {
   "display_name": "Python 3",
   "language": "python",
   "name": "python3"
  },
  "language_info": {
   "codemirror_mode": {
    "name": "ipython",
    "version": 3
   },
   "file_extension": ".py",
   "mimetype": "text/x-python",
   "name": "python",
   "nbconvert_exporter": "python",
   "pygments_lexer": "ipython3",
   "version": "3.5.2"
  }
 },
 "nbformat": 4,
 "nbformat_minor": 1
}
